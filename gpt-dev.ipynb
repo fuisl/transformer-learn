{
 "cells": [
  {
   "cell_type": "code",
   "execution_count": 1,
   "metadata": {},
   "outputs": [],
   "source": [
    "# Dataset\n",
    "import os\n",
    "if not os.path.exists('input.txt'):\n",
    "    !wget https://raw.githubusercontent.com/karpathy/char-rnn/master/data/tinyshakespeare/input.txt"
   ]
  },
  {
   "cell_type": "code",
   "execution_count": 2,
   "metadata": {},
   "outputs": [],
   "source": [
    "with open('input.txt', 'r', encoding='utf-8') as f:\n",
    "    text = f.read()"
   ]
  },
  {
   "cell_type": "code",
   "execution_count": 3,
   "metadata": {},
   "outputs": [
    {
     "data": {
      "text/plain": [
       "1115394"
      ]
     },
     "execution_count": 3,
     "metadata": {},
     "output_type": "execute_result"
    }
   ],
   "source": [
    "len(text)  # 1M characters"
   ]
  },
  {
   "cell_type": "code",
   "execution_count": 4,
   "metadata": {},
   "outputs": [
    {
     "data": {
      "text/plain": [
       "\"First Citizen:\\nBefore we proceed any further, hear me speak.\\n\\nAll:\\nSpeak, speak.\\n\\nFirst Citizen:\\nYou are all resolved rather to die than to famish?\\n\\nAll:\\nResolved. resolved.\\n\\nFirst Citizen:\\nFirst, you know Caius Marcius is chief enemy to the people.\\n\\nAll:\\nWe know't, we know't.\\n\\nFirst Citizen:\\nLet us kill him, and we'll have corn at our own price.\\nIs't a verdict?\\n\\nAll:\\nNo more talking on't; let it be done: away, away!\\n\\nSecond Citizen:\\nOne word, good citizens.\\n\\nFirst Citizen:\\nWe are accounted poor citizens, the patricians good.\\nWhat authority surfeits on would relieve us: if they\\nwould yield us but the superfluity, while it were\\nwholesome, we might guess they relieved us humanely;\\nbut they think we are too dear: the leanness that\\nafflicts us, the object of our misery, is as an\\ninventory to particularise their abundance; our\\nsufferance is a gain to them Let us revenge this with\\nour pikes, ere we become rakes: for the gods know I\\nspeak this in hunger for bread, not in thirst for revenge.\\n\\n\""
      ]
     },
     "execution_count": 4,
     "metadata": {},
     "output_type": "execute_result"
    }
   ],
   "source": [
    "text[:1000]  # First 1000 characters"
   ]
  },
  {
   "cell_type": "code",
   "execution_count": 5,
   "metadata": {},
   "outputs": [
    {
     "name": "stdout",
     "output_type": "stream",
     "text": [
      "\n",
      " !$&',-.3:;?ABCDEFGHIJKLMNOPQRSTUVWXYZabcdefghijklmnopqrstuvwxyz\n",
      "65\n"
     ]
    }
   ],
   "source": [
    "chars = sorted(list(set(text)))\n",
    "vocab_size = len(chars)\n",
    "\n",
    "print(\"\".join(chars))\n",
    "print(vocab_size)  # code book?"
   ]
  },
  {
   "cell_type": "markdown",
   "metadata": {},
   "source": [
    "### Encode the string to a list of numbers"
   ]
  },
  {
   "cell_type": "code",
   "execution_count": 6,
   "metadata": {},
   "outputs": [
    {
     "name": "stdout",
     "output_type": "stream",
     "text": [
      "[32, 56, 39, 52, 57, 44, 53, 56, 51, 43, 56]\n",
      "Transformer\n"
     ]
    }
   ],
   "source": [
    "# create a mapping from characters to integers\n",
    "stoi = {ch:i for i,ch in enumerate(chars)}\n",
    "itos = {i:ch for i,ch in enumerate(chars)}\n",
    "encode = lambda s: [stoi[c] for c in s] # encoder: take a string, output a list of integers\n",
    "decode = lambda l: ''.join([itos[i] for i in l]) # decoder: take a list of integers, output a string\n",
    "\n",
    "print(encode(\"Transformer\"))\n",
    "print(decode(encode(\"Transformer\")))"
   ]
  },
  {
   "cell_type": "code",
   "execution_count": 13,
   "metadata": {},
   "outputs": [
    {
     "name": "stdout",
     "output_type": "stream",
     "text": [
      "[8291, 16354]\n",
      "Transformer\n"
     ]
    }
   ],
   "source": [
    "# another way of encoding\n",
    "import tiktoken\n",
    "# tiktok_enc = tiktoken.get_encoding('gpt2')\n",
    "tiktok_enc.n_vocab\n",
    "\n",
    "print(tiktok_enc.encode(\"Transformer\"))\n",
    "print(tiktok_enc.decode([8291, 16354]))"
   ]
  },
  {
   "cell_type": "code",
   "execution_count": 16,
   "metadata": {},
   "outputs": [
    {
     "data": {
      "text/plain": [
       "tensor([18, 47, 56, 57, 58,  1, 15, 47, 58, 47, 64, 43, 52, 10,  0, 14, 43, 44,\n",
       "        53, 56, 43,  1, 61, 43,  1, 54, 56, 53, 41, 43, 43, 42,  1, 39, 52, 63,\n",
       "         1, 44, 59, 56, 58, 46, 43, 56,  6,  1, 46, 43, 39, 56,  1, 51, 43,  1,\n",
       "        57, 54, 43, 39, 49,  8,  0,  0, 13, 50, 50, 10,  0, 31, 54, 43, 39, 49,\n",
       "         6,  1, 57, 54, 43, 39, 49,  8,  0,  0, 18, 47, 56, 57, 58,  1, 15, 47,\n",
       "        58, 47, 64, 43, 52, 10,  0, 37, 53, 59])"
      ]
     },
     "execution_count": 16,
     "metadata": {},
     "output_type": "execute_result"
    }
   ],
   "source": [
    "import torch\n",
    "data = torch.tensor(encode(text), dtype=torch.long)  # Encode and put the data into a tensor\n",
    "data[:100]"
   ]
  },
  {
   "cell_type": "code",
   "execution_count": 17,
   "metadata": {},
   "outputs": [],
   "source": [
    "# split the data into train and val\n",
    "\n",
    "n = int(0.9*len(data)) # 9:1\n",
    "train_data = data[:n]\n",
    "val_data = data[n:]"
   ]
  },
  {
   "cell_type": "code",
   "execution_count": 22,
   "metadata": {},
   "outputs": [
    {
     "data": {
      "text/plain": [
       "tensor([18, 47, 56, 57, 58,  1, 15, 47, 58])"
      ]
     },
     "execution_count": 22,
     "metadata": {},
     "output_type": "execute_result"
    }
   ],
   "source": [
    "block_size = 8  # context window size\n",
    "\n",
    "train_data[:block_size+1]  # ordered --> make prediction on every character"
   ]
  },
  {
   "cell_type": "code",
   "execution_count": 39,
   "metadata": {},
   "outputs": [
    {
     "name": "stdout",
     "output_type": "stream",
     "text": [
      "context = [18] -> target = 47\n",
      "context = [18, 47] -> target = 56\n",
      "context = [18, 47, 56] -> target = 57\n",
      "context = [18, 47, 56, 57] -> target = 58\n",
      "context = [18, 47, 56, 57, 58] -> target = 1\n",
      "context = [18, 47, 56, 57, 58, 1] -> target = 15\n",
      "context = [18, 47, 56, 57, 58, 1, 15] -> target = 47\n",
      "context = [18, 47, 56, 57, 58, 1, 15, 47] -> target = 58\n"
     ]
    }
   ],
   "source": [
    "import numpy as np\n",
    "\n",
    "x = train_data[:block_size]\n",
    "y = train_data[1:block_size+1]\n",
    "\n",
    "for i in range(block_size):\n",
    "    context = x[:i+1]\n",
    "    target = y[i]\n",
    "    print(f\"context = {context.tolist()} -> target = {target}\")\n",
    "\n",
    "# Truncate the data so that it can be divided into blocks of block_size"
   ]
  },
  {
   "cell_type": "code",
   "execution_count": 41,
   "metadata": {},
   "outputs": [
    {
     "name": "stdout",
     "output_type": "stream",
     "text": [
      "inputs:\n",
      "torch.Size([4, 8])\n",
      "tensor([[46, 43,  1, 45, 47, 60, 43, 57],\n",
      "        [51,  1, 58, 46, 43,  1, 63, 53],\n",
      "        [39, 50, 50,  1, 63, 53, 59,  1],\n",
      "        [53, 61, 52,  1, 57, 53, 59, 50]]) \n",
      "\n",
      "targets:\n",
      "torch.Size([4, 8])\n",
      "tensor([[43,  1, 45, 47, 60, 43, 57,  1],\n",
      "        [ 1, 58, 46, 43,  1, 63, 53, 59],\n",
      "        [50, 50,  1, 63, 53, 59,  1, 46],\n",
      "        [61, 52,  1, 57, 53, 59, 50,  1]])\n",
      "\n",
      " ---- \n",
      "\n",
      "when input is [46] the target: 43\n",
      "when input is [46, 43] the target: 1\n",
      "when input is [46, 43, 1] the target: 45\n",
      "when input is [46, 43, 1, 45] the target: 47\n",
      "when input is [46, 43, 1, 45, 47] the target: 60\n",
      "when input is [46, 43, 1, 45, 47, 60] the target: 43\n",
      "when input is [46, 43, 1, 45, 47, 60, 43] the target: 57\n",
      "when input is [46, 43, 1, 45, 47, 60, 43, 57] the target: 1\n",
      "when input is [51] the target: 1\n",
      "when input is [51, 1] the target: 58\n",
      "when input is [51, 1, 58] the target: 46\n",
      "when input is [51, 1, 58, 46] the target: 43\n",
      "when input is [51, 1, 58, 46, 43] the target: 1\n",
      "when input is [51, 1, 58, 46, 43, 1] the target: 63\n",
      "when input is [51, 1, 58, 46, 43, 1, 63] the target: 53\n",
      "when input is [51, 1, 58, 46, 43, 1, 63, 53] the target: 59\n",
      "when input is [39] the target: 50\n",
      "when input is [39, 50] the target: 50\n",
      "when input is [39, 50, 50] the target: 1\n",
      "when input is [39, 50, 50, 1] the target: 63\n",
      "when input is [39, 50, 50, 1, 63] the target: 53\n",
      "when input is [39, 50, 50, 1, 63, 53] the target: 59\n",
      "when input is [39, 50, 50, 1, 63, 53, 59] the target: 1\n",
      "when input is [39, 50, 50, 1, 63, 53, 59, 1] the target: 46\n",
      "when input is [53] the target: 61\n",
      "when input is [53, 61] the target: 52\n",
      "when input is [53, 61, 52] the target: 1\n",
      "when input is [53, 61, 52, 1] the target: 57\n",
      "when input is [53, 61, 52, 1, 57] the target: 53\n",
      "when input is [53, 61, 52, 1, 57, 53] the target: 59\n",
      "when input is [53, 61, 52, 1, 57, 53, 59] the target: 50\n",
      "when input is [53, 61, 52, 1, 57, 53, 59, 50] the target: 1\n"
     ]
    }
   ],
   "source": [
    "torch.manual_seed(0)\n",
    "batch_size = 4\n",
    "block_size = 8 # maximum context length for predictions\n",
    "\n",
    "def get_batch(split):\n",
    "    # generate a small batch of data of inputs x and targets y\n",
    "    data = train_data if split == 'train' else val_data\n",
    "    ix = torch.randint(len(data) - block_size, (batch_size,))  # random offset to training set\n",
    "    x = torch.stack([data[i:i+block_size] for i in ix])\n",
    "    y = torch.stack([data[i+1:i+block_size+1] for i in ix])\n",
    "    return x, y\n",
    "\n",
    "xb, yb = get_batch('train')\n",
    "print('inputs:')\n",
    "print(xb.shape)\n",
    "print(xb, '\\n')\n",
    "print('targets:')\n",
    "print(yb.shape)\n",
    "print(yb)\n",
    "\n",
    "print('\\n ---- \\n')\n",
    "\n",
    "for b in range(batch_size): # batch dimension\n",
    "    for t in range(block_size): # time dimension\n",
    "        context = xb[b, :t+1]\n",
    "        target = yb[b,t]\n",
    "        print(f\"when input is {context.tolist()} the target: {target}\")"
   ]
  }
 ],
 "metadata": {
  "kernelspec": {
   "display_name": "maxvit",
   "language": "python",
   "name": "python3"
  },
  "language_info": {
   "codemirror_mode": {
    "name": "ipython",
    "version": 3
   },
   "file_extension": ".py",
   "mimetype": "text/x-python",
   "name": "python",
   "nbconvert_exporter": "python",
   "pygments_lexer": "ipython3",
   "version": "3.10.14"
  }
 },
 "nbformat": 4,
 "nbformat_minor": 2
}
